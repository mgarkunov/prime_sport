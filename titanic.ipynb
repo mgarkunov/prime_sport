{
 "cells": [
  {
   "metadata": {
    "ExecuteTime": {
     "end_time": "2025-10-02T18:02:20.334891Z",
     "start_time": "2025-10-02T18:02:20.327143Z"
    }
   },
   "cell_type": "code",
   "source": [
    "import pandas as pd\n",
    "import numpy as np\n",
    "import matplotlib.pyplot as plt\n",
    "%matplotlib inline\n",
    "import seaborn as sns\n",
    "sns.set()\n",
    "\n",
    "import warnings\n",
    "warnings.filterwarnings('ignore')"
   ],
   "id": "174cce7bd8205ccd",
   "outputs": [],
   "execution_count": 181
  },
  {
   "metadata": {
    "ExecuteTime": {
     "end_time": "2025-10-02T18:02:20.467121Z",
     "start_time": "2025-10-02T18:02:20.334891Z"
    }
   },
   "cell_type": "code",
   "source": [
    "# Загружаем данные\n",
    "train = pd.read_excel(\n",
    "    io = 'titanic.xlsx',\n",
    "    sheet_name = 'train',\n",
    ").rename(\n",
    "    columns = {\n",
    "        \"Целевая переменная\": 'target',\n",
    "        \"Социальный класс\": \"class\",\n",
    "        \"Пол\":\"gender\",\n",
    "        \"Возраст\":\"age\",\n",
    "        \"БСС\":\"bss\",\n",
    "        \"РД\":\"rd\",\n",
    "        \"Номер билета\":\"ticket\",\n",
    "        \"Стоимость проезда\":\"price\",\n",
    "        \"Место\":\"place\",\n",
    "        \"Порт посадки\": 'port',\n",
    "        \"Лодка\": \"boat\"\n",
    "\n",
    "    }\n",
    ")\n",
    "test = pd.read_excel(\n",
    "    io = 'titanic.xlsx',\n",
    "    sheet_name = 'test',\n",
    ").rename(\n",
    "    columns = {\n",
    "        \"Целевая переменная\": 'target',\n",
    "        \"Социальный класс\": \"class\",\n",
    "        \"Пол\":\"gender\",\n",
    "        \"Возраст\":\"age\",\n",
    "        \"БСС\":\"bss\",\n",
    "        \"РД\":\"rd\",\n",
    "        \"Номер билета\":\"ticket\",\n",
    "        \"Стоимость проезда\":\"price\",\n",
    "        \"Место\":\"place\",\n",
    "        \"Порт посадки\": 'port',\n",
    "        \"Лодка\": \"boat\"\n",
    "\n",
    "    }\n",
    ")\n",
    "# Делаем копию для финального файла\n",
    "test_final = test.copy()"
   ],
   "id": "d86b7bf33d63f694",
   "outputs": [],
   "execution_count": 182
  },
  {
   "metadata": {},
   "cell_type": "markdown",
   "source": "# Исследованиe данных",
   "id": "2e5724346dba0c4e"
  },
  {
   "metadata": {
    "ExecuteTime": {
     "end_time": "2025-10-02T18:02:20.497593Z",
     "start_time": "2025-10-02T18:02:20.489213Z"
    }
   },
   "cell_type": "code",
   "source": [
    "# Смотрим общую информацию\n",
    "train.info()"
   ],
   "id": "45c657eec2efc197",
   "outputs": [
    {
     "name": "stdout",
     "output_type": "stream",
     "text": [
      "<class 'pandas.core.frame.DataFrame'>\n",
      "RangeIndex: 1295 entries, 0 to 1294\n",
      "Data columns (total 11 columns):\n",
      " #   Column  Non-Null Count  Dtype  \n",
      "---  ------  --------------  -----  \n",
      " 0   target  1295 non-null   int64  \n",
      " 1   class   1295 non-null   int64  \n",
      " 2   gender  1295 non-null   object \n",
      " 3   age     1034 non-null   float64\n",
      " 4   bss     1295 non-null   int64  \n",
      " 5   rd      1295 non-null   int64  \n",
      " 6   ticket  1295 non-null   object \n",
      " 7   price   1294 non-null   float64\n",
      " 8   place   290 non-null    object \n",
      " 9   port    1293 non-null   object \n",
      " 10  boat    479 non-null    object \n",
      "dtypes: float64(2), int64(4), object(5)\n",
      "memory usage: 111.4+ KB\n"
     ]
    }
   ],
   "execution_count": 183
  },
  {
   "metadata": {},
   "cell_type": "markdown",
   "source": "Есть пропуски данных в age, rd, price, place, port и boat",
   "id": "2c7c8407c14352cb"
  },
  {
   "metadata": {
    "ExecuteTime": {
     "end_time": "2025-10-02T18:02:20.526841Z",
     "start_time": "2025-10-02T18:02:20.519132Z"
    }
   },
   "cell_type": "code",
   "source": [
    "# Смотрим общую информацию\n",
    "test.info()"
   ],
   "id": "2415ca916b5ea5f1",
   "outputs": [
    {
     "name": "stdout",
     "output_type": "stream",
     "text": [
      "<class 'pandas.core.frame.DataFrame'>\n",
      "RangeIndex: 14 entries, 0 to 13\n",
      "Data columns (total 11 columns):\n",
      " #   Column  Non-Null Count  Dtype  \n",
      "---  ------  --------------  -----  \n",
      " 0   target  0 non-null      float64\n",
      " 1   class   14 non-null     int64  \n",
      " 2   gender  14 non-null     object \n",
      " 3   age     12 non-null     float64\n",
      " 4   bss     14 non-null     int64  \n",
      " 5   rd      14 non-null     int64  \n",
      " 6   ticket  14 non-null     object \n",
      " 7   price   14 non-null     float64\n",
      " 8   place   5 non-null      object \n",
      " 9   port    14 non-null     object \n",
      " 10  boat    7 non-null      object \n",
      "dtypes: float64(3), int64(3), object(5)\n",
      "memory usage: 1.3+ KB\n"
     ]
    }
   ],
   "execution_count": 184
  },
  {
   "metadata": {},
   "cell_type": "markdown",
   "source": "Есть пропуски данных в age,place и boat",
   "id": "3f9d5beec3c25f70"
  },
  {
   "metadata": {
    "ExecuteTime": {
     "end_time": "2025-10-02T18:02:20.576352Z",
     "start_time": "2025-10-02T18:02:20.570607Z"
    }
   },
   "cell_type": "code",
   "source": [
    "# Анализ классов - 3 класса больше\n",
    "train['class'].value_counts()"
   ],
   "id": "6d02963c0c5f7fae",
   "outputs": [
    {
     "data": {
      "text/plain": [
       "class\n",
       "3    704\n",
       "1    319\n",
       "2    272\n",
       "Name: count, dtype: int64"
      ]
     },
     "execution_count": 185,
     "metadata": {},
     "output_type": "execute_result"
    }
   ],
   "execution_count": 185
  },
  {
   "metadata": {
    "ExecuteTime": {
     "end_time": "2025-10-02T18:02:20.612346Z",
     "start_time": "2025-10-02T18:02:20.606380Z"
    }
   },
   "cell_type": "code",
   "source": [
    "# Анализ пола - Мужчин больше\n",
    "train['gender'].value_counts()"
   ],
   "id": "ecd9592913ab80de",
   "outputs": [
    {
     "data": {
      "text/plain": [
       "gender\n",
       "male      835\n",
       "female    460\n",
       "Name: count, dtype: int64"
      ]
     },
     "execution_count": 186,
     "metadata": {},
     "output_type": "execute_result"
    }
   ],
   "execution_count": 186
  },
  {
   "metadata": {
    "ExecuteTime": {
     "end_time": "2025-10-02T18:02:20.678794Z",
     "start_time": "2025-10-02T18:02:20.671752Z"
    }
   },
   "cell_type": "code",
   "source": [
    "# Статистика по возрасту\n",
    "train['age'].describe()"
   ],
   "id": "c1ba5f5e3f726a32",
   "outputs": [
    {
     "data": {
      "text/plain": [
       "count    1034.000000\n",
       "mean       29.845422\n",
       "std        14.470938\n",
       "min         0.166700\n",
       "25%        21.000000\n",
       "50%        28.000000\n",
       "75%        39.000000\n",
       "max        80.000000\n",
       "Name: age, dtype: float64"
      ]
     },
     "execution_count": 187,
     "metadata": {},
     "output_type": "execute_result"
    }
   ],
   "execution_count": 187
  },
  {
   "metadata": {
    "ExecuteTime": {
     "end_time": "2025-10-02T18:02:20.756935Z",
     "start_time": "2025-10-02T18:02:20.750565Z"
    }
   },
   "cell_type": "code",
   "source": [
    "# Статистика по количество братьев / сестер / супругов - большинство одиночки\n",
    "train['bss'].value_counts()"
   ],
   "id": "e809299ebd70c371",
   "outputs": [
    {
     "data": {
      "text/plain": [
       "bss\n",
       "0    886\n",
       "1    310\n",
       "2     42\n",
       "4     22\n",
       "3     20\n",
       "8      9\n",
       "5      6\n",
       "Name: count, dtype: int64"
      ]
     },
     "execution_count": 188,
     "metadata": {},
     "output_type": "execute_result"
    }
   ],
   "execution_count": 188
  },
  {
   "metadata": {
    "ExecuteTime": {
     "end_time": "2025-10-02T18:02:20.856397Z",
     "start_time": "2025-10-02T18:02:20.849611Z"
    }
   },
   "cell_type": "code",
   "source": [
    "# Анализ - количества детей / родителей\n",
    "train['rd'].value_counts()"
   ],
   "id": "7a8729ed37813b5e",
   "outputs": [
    {
     "data": {
      "text/plain": [
       "rd\n",
       "0    990\n",
       "1    168\n",
       "2    113\n",
       "3      8\n",
       "4      6\n",
       "5      6\n",
       "6      2\n",
       "9      2\n",
       "Name: count, dtype: int64"
      ]
     },
     "execution_count": 189,
     "metadata": {},
     "output_type": "execute_result"
    }
   ],
   "execution_count": 189
  },
  {
   "metadata": {
    "ExecuteTime": {
     "end_time": "2025-10-02T18:02:20.946800Z",
     "start_time": "2025-10-02T18:02:20.939250Z"
    }
   },
   "cell_type": "code",
   "source": [
    "# Анализ целевого показателя и класса - пассажиры первых дух классов достигают чаще целевого показателя\n",
    "train.groupby('class').target.value_counts()"
   ],
   "id": "b1e52d128b9c035f",
   "outputs": [
    {
     "data": {
      "text/plain": [
       "class  target\n",
       "1      1         198\n",
       "       0         121\n",
       "2      0         156\n",
       "       1         116\n",
       "3      0         525\n",
       "       1         179\n",
       "Name: count, dtype: int64"
      ]
     },
     "execution_count": 190,
     "metadata": {},
     "output_type": "execute_result"
    }
   ],
   "execution_count": 190
  },
  {
   "metadata": {
    "ExecuteTime": {
     "end_time": "2025-10-02T18:02:21.040418Z",
     "start_time": "2025-10-02T18:02:21.031455Z"
    }
   },
   "cell_type": "code",
   "source": "train[['class', 'target']].groupby(['class'], as_index=False).mean()",
   "id": "c16b7570232f0c5d",
   "outputs": [
    {
     "data": {
      "text/plain": [
       "   class    target\n",
       "0      1  0.620690\n",
       "1      2  0.426471\n",
       "2      3  0.254261"
      ],
      "text/html": [
       "<div>\n",
       "<style scoped>\n",
       "    .dataframe tbody tr th:only-of-type {\n",
       "        vertical-align: middle;\n",
       "    }\n",
       "\n",
       "    .dataframe tbody tr th {\n",
       "        vertical-align: top;\n",
       "    }\n",
       "\n",
       "    .dataframe thead th {\n",
       "        text-align: right;\n",
       "    }\n",
       "</style>\n",
       "<table border=\"1\" class=\"dataframe\">\n",
       "  <thead>\n",
       "    <tr style=\"text-align: right;\">\n",
       "      <th></th>\n",
       "      <th>class</th>\n",
       "      <th>target</th>\n",
       "    </tr>\n",
       "  </thead>\n",
       "  <tbody>\n",
       "    <tr>\n",
       "      <th>0</th>\n",
       "      <td>1</td>\n",
       "      <td>0.620690</td>\n",
       "    </tr>\n",
       "    <tr>\n",
       "      <th>1</th>\n",
       "      <td>2</td>\n",
       "      <td>0.426471</td>\n",
       "    </tr>\n",
       "    <tr>\n",
       "      <th>2</th>\n",
       "      <td>3</td>\n",
       "      <td>0.254261</td>\n",
       "    </tr>\n",
       "  </tbody>\n",
       "</table>\n",
       "</div>"
      ]
     },
     "execution_count": 191,
     "metadata": {},
     "output_type": "execute_result"
    }
   ],
   "execution_count": 191
  },
  {
   "metadata": {
    "ExecuteTime": {
     "end_time": "2025-10-02T18:02:21.120532Z",
     "start_time": "2025-10-02T18:02:21.113318Z"
    }
   },
   "cell_type": "code",
   "source": [
    "# Анализ целевого показателя и поля - женщины чаще достигали целевого показателя\n",
    "train.groupby('gender').target.value_counts()"
   ],
   "id": "619593e56fcce24a",
   "outputs": [
    {
     "data": {
      "text/plain": [
       "gender  target\n",
       "female  1         333\n",
       "        0         127\n",
       "male    0         675\n",
       "        1         160\n",
       "Name: count, dtype: int64"
      ]
     },
     "execution_count": 192,
     "metadata": {},
     "output_type": "execute_result"
    }
   ],
   "execution_count": 192
  },
  {
   "metadata": {
    "ExecuteTime": {
     "end_time": "2025-10-02T18:02:21.200005Z",
     "start_time": "2025-10-02T18:02:21.191507Z"
    }
   },
   "cell_type": "code",
   "source": "train[['gender', 'target']].groupby(['gender'], as_index=False).mean()",
   "id": "35e749095b4e682b",
   "outputs": [
    {
     "data": {
      "text/plain": [
       "   gender    target\n",
       "0  female  0.723913\n",
       "1    male  0.191617"
      ],
      "text/html": [
       "<div>\n",
       "<style scoped>\n",
       "    .dataframe tbody tr th:only-of-type {\n",
       "        vertical-align: middle;\n",
       "    }\n",
       "\n",
       "    .dataframe tbody tr th {\n",
       "        vertical-align: top;\n",
       "    }\n",
       "\n",
       "    .dataframe thead th {\n",
       "        text-align: right;\n",
       "    }\n",
       "</style>\n",
       "<table border=\"1\" class=\"dataframe\">\n",
       "  <thead>\n",
       "    <tr style=\"text-align: right;\">\n",
       "      <th></th>\n",
       "      <th>gender</th>\n",
       "      <th>target</th>\n",
       "    </tr>\n",
       "  </thead>\n",
       "  <tbody>\n",
       "    <tr>\n",
       "      <th>0</th>\n",
       "      <td>female</td>\n",
       "      <td>0.723913</td>\n",
       "    </tr>\n",
       "    <tr>\n",
       "      <th>1</th>\n",
       "      <td>male</td>\n",
       "      <td>0.191617</td>\n",
       "    </tr>\n",
       "  </tbody>\n",
       "</table>\n",
       "</div>"
      ]
     },
     "execution_count": 193,
     "metadata": {},
     "output_type": "execute_result"
    }
   ],
   "execution_count": 193
  },
  {
   "metadata": {},
   "cell_type": "markdown",
   "source": "В целом можно продолжить анализ данных с различных сторон и все зависит от цели и задач",
   "id": "b98461c23af464cc"
  },
  {
   "metadata": {},
   "cell_type": "markdown",
   "source": "# Дополнение данных для тренировки",
   "id": "c10e020d570b0f02"
  },
  {
   "metadata": {
    "ExecuteTime": {
     "end_time": "2025-10-02T18:02:21.290536Z",
     "start_time": "2025-10-02T18:02:21.286240Z"
    }
   },
   "cell_type": "code",
   "source": [
    "# Комбинируем датасеты\n",
    "train_test_data = [train, test] # combining train and test dataset"
   ],
   "id": "86e8b6788a578eb4",
   "outputs": [],
   "execution_count": 194
  },
  {
   "metadata": {
    "ExecuteTime": {
     "end_time": "2025-10-02T18:02:21.422042Z",
     "start_time": "2025-10-02T18:02:21.410912Z"
    }
   },
   "cell_type": "code",
   "source": [
    "# Заполняем age\n",
    "for dataset in train_test_data:\n",
    "    age_avg = dataset['age'].mean()\n",
    "    age_std = dataset['age'].std()\n",
    "    age_null_count = dataset['age'].isnull().sum()\n",
    "\n",
    "    age_null_random_list = np.random.randint(age_avg - age_std, age_avg + age_std, size=age_null_count)\n",
    "    dataset['age'][np.isnan(dataset['age'])] = age_null_random_list\n",
    "    dataset['age'] = dataset['age'].astype(int)\n",
    "\n",
    "train['age_band'] = pd.cut(train['age'], 5)\n",
    "\n",
    "print (train[['age_band', 'target']].groupby(['age_band'], as_index=False).mean())\n"
   ],
   "id": "9579f1ed49d6496c",
   "outputs": [
    {
     "name": "stdout",
     "output_type": "stream",
     "text": [
      "        age_band    target\n",
      "0  (-0.08, 16.0]  0.538462\n",
      "1   (16.0, 32.0]  0.357576\n",
      "2   (32.0, 48.0]  0.344444\n",
      "3   (48.0, 64.0]  0.443396\n",
      "4   (64.0, 80.0]  0.153846\n"
     ]
    }
   ],
   "execution_count": 195
  },
  {
   "metadata": {
    "ExecuteTime": {
     "end_time": "2025-10-02T18:02:21.488281Z",
     "start_time": "2025-10-02T18:02:21.474245Z"
    }
   },
   "cell_type": "code",
   "source": [
    "# Преобразуем пол в числительное значение\n",
    "for dataset in train_test_data:\n",
    "    dataset['gender'] = dataset['gender'].map( {'female': 1, 'male': 0} ).astype(int)\n"
   ],
   "id": "cebf5da559e33e95",
   "outputs": [],
   "execution_count": 196
  },
  {
   "metadata": {
    "ExecuteTime": {
     "end_time": "2025-10-02T18:02:21.571567Z",
     "start_time": "2025-10-02T18:02:21.566244Z"
    }
   },
   "cell_type": "code",
   "source": [
    "# Заполняем порт отправления на базе популярного значения 'S'\n",
    "\n",
    "for dataset in train_test_data:\n",
    "    dataset['port'] = dataset['port'].fillna('S')\n",
    "\n"
   ],
   "id": "9f51cd306942cedb",
   "outputs": [],
   "execution_count": 197
  },
  {
   "metadata": {
    "ExecuteTime": {
     "end_time": "2025-10-02T18:02:21.580801Z",
     "start_time": "2025-10-02T18:02:21.571567Z"
    }
   },
   "cell_type": "code",
   "source": [
    "# Также преобразуем в числительное значение\n",
    "for dataset in train_test_data:\n",
    "    #print(dataset.Embarked.unique())\n",
    "    dataset['port'] = dataset['port'].map( {'S': 0, 'C': 1, 'Q': 2} ).astype(int)"
   ],
   "id": "987a1f3b71a4d903",
   "outputs": [],
   "execution_count": 198
  },
  {
   "metadata": {
    "ExecuteTime": {
     "end_time": "2025-10-02T18:02:21.618580Z",
     "start_time": "2025-10-02T18:02:21.602339Z"
    }
   },
   "cell_type": "code",
   "source": [
    "# Категории по возрасту\n",
    "\n",
    "for dataset in train_test_data:\n",
    "    dataset.loc[ dataset['age'] <= 16, 'age'] = 0\n",
    "    dataset.loc[(dataset['age'] > 16) & (dataset['age'] <= 32), 'age'] = 1\n",
    "    dataset.loc[(dataset['age'] > 32) & (dataset['age'] <= 48), 'age'] = 2\n",
    "    dataset.loc[(dataset['age'] > 48) & (dataset['age'] <= 64), 'age'] = 3\n",
    "    dataset.loc[ dataset['age'] > 64, 'age'] = 4\n",
    "\n",
    "train.head()\n",
    "\n"
   ],
   "id": "28ee6e86bc63f49d",
   "outputs": [
    {
     "data": {
      "text/plain": [
       "   target  class  gender  age  bss  rd  ticket     price    place  port boat  \\\n",
       "0       1      1       1    1    0   0   24160  211.3375       B5     0    2   \n",
       "1       1      1       0    0    1   2  113781  151.5500  C22 C26     0   11   \n",
       "2       0      1       1    0    1   2  113781  151.5500  C22 C26     0  NaN   \n",
       "3       0      1       0    1    1   2  113781  151.5500  C22 C26     0  NaN   \n",
       "4       0      1       1    1    1   2  113781  151.5500  C22 C26     0  NaN   \n",
       "\n",
       "        age_band  \n",
       "0   (16.0, 32.0]  \n",
       "1  (-0.08, 16.0]  \n",
       "2  (-0.08, 16.0]  \n",
       "3   (16.0, 32.0]  \n",
       "4   (16.0, 32.0]  "
      ],
      "text/html": [
       "<div>\n",
       "<style scoped>\n",
       "    .dataframe tbody tr th:only-of-type {\n",
       "        vertical-align: middle;\n",
       "    }\n",
       "\n",
       "    .dataframe tbody tr th {\n",
       "        vertical-align: top;\n",
       "    }\n",
       "\n",
       "    .dataframe thead th {\n",
       "        text-align: right;\n",
       "    }\n",
       "</style>\n",
       "<table border=\"1\" class=\"dataframe\">\n",
       "  <thead>\n",
       "    <tr style=\"text-align: right;\">\n",
       "      <th></th>\n",
       "      <th>target</th>\n",
       "      <th>class</th>\n",
       "      <th>gender</th>\n",
       "      <th>age</th>\n",
       "      <th>bss</th>\n",
       "      <th>rd</th>\n",
       "      <th>ticket</th>\n",
       "      <th>price</th>\n",
       "      <th>place</th>\n",
       "      <th>port</th>\n",
       "      <th>boat</th>\n",
       "      <th>age_band</th>\n",
       "    </tr>\n",
       "  </thead>\n",
       "  <tbody>\n",
       "    <tr>\n",
       "      <th>0</th>\n",
       "      <td>1</td>\n",
       "      <td>1</td>\n",
       "      <td>1</td>\n",
       "      <td>1</td>\n",
       "      <td>0</td>\n",
       "      <td>0</td>\n",
       "      <td>24160</td>\n",
       "      <td>211.3375</td>\n",
       "      <td>B5</td>\n",
       "      <td>0</td>\n",
       "      <td>2</td>\n",
       "      <td>(16.0, 32.0]</td>\n",
       "    </tr>\n",
       "    <tr>\n",
       "      <th>1</th>\n",
       "      <td>1</td>\n",
       "      <td>1</td>\n",
       "      <td>0</td>\n",
       "      <td>0</td>\n",
       "      <td>1</td>\n",
       "      <td>2</td>\n",
       "      <td>113781</td>\n",
       "      <td>151.5500</td>\n",
       "      <td>C22 C26</td>\n",
       "      <td>0</td>\n",
       "      <td>11</td>\n",
       "      <td>(-0.08, 16.0]</td>\n",
       "    </tr>\n",
       "    <tr>\n",
       "      <th>2</th>\n",
       "      <td>0</td>\n",
       "      <td>1</td>\n",
       "      <td>1</td>\n",
       "      <td>0</td>\n",
       "      <td>1</td>\n",
       "      <td>2</td>\n",
       "      <td>113781</td>\n",
       "      <td>151.5500</td>\n",
       "      <td>C22 C26</td>\n",
       "      <td>0</td>\n",
       "      <td>NaN</td>\n",
       "      <td>(-0.08, 16.0]</td>\n",
       "    </tr>\n",
       "    <tr>\n",
       "      <th>3</th>\n",
       "      <td>0</td>\n",
       "      <td>1</td>\n",
       "      <td>0</td>\n",
       "      <td>1</td>\n",
       "      <td>1</td>\n",
       "      <td>2</td>\n",
       "      <td>113781</td>\n",
       "      <td>151.5500</td>\n",
       "      <td>C22 C26</td>\n",
       "      <td>0</td>\n",
       "      <td>NaN</td>\n",
       "      <td>(16.0, 32.0]</td>\n",
       "    </tr>\n",
       "    <tr>\n",
       "      <th>4</th>\n",
       "      <td>0</td>\n",
       "      <td>1</td>\n",
       "      <td>1</td>\n",
       "      <td>1</td>\n",
       "      <td>1</td>\n",
       "      <td>2</td>\n",
       "      <td>113781</td>\n",
       "      <td>151.5500</td>\n",
       "      <td>C22 C26</td>\n",
       "      <td>0</td>\n",
       "      <td>NaN</td>\n",
       "      <td>(16.0, 32.0]</td>\n",
       "    </tr>\n",
       "  </tbody>\n",
       "</table>\n",
       "</div>"
      ]
     },
     "execution_count": 199,
     "metadata": {},
     "output_type": "execute_result"
    }
   ],
   "execution_count": 199
  },
  {
   "metadata": {
    "ExecuteTime": {
     "end_time": "2025-10-02T18:02:21.671388Z",
     "start_time": "2025-10-02T18:02:21.666494Z"
    }
   },
   "cell_type": "code",
   "source": [
    "# Заполняем пустую оплату\n",
    "for dataset in train_test_data:\n",
    "    dataset['price'] = dataset['price'].fillna(train['price'].median())\n"
   ],
   "id": "d4368738ca9ed224",
   "outputs": [],
   "execution_count": 200
  },
  {
   "metadata": {
    "ExecuteTime": {
     "end_time": "2025-10-02T18:02:21.714299Z",
     "start_time": "2025-10-02T18:02:21.705120Z"
    }
   },
   "cell_type": "code",
   "source": [
    "# Добавляем сегменты по цене\n",
    "train['price_band'] = pd.qcut(train['price'], 4)\n",
    "print (train[['price_band', 'target']].groupby(['price_band'], as_index=False).mean())"
   ],
   "id": "a4da69b46c64a219",
   "outputs": [
    {
     "name": "stdout",
     "output_type": "stream",
     "text": [
      "          price_band    target\n",
      "0    (-0.001, 7.896]  0.229167\n",
      "1    (7.896, 14.454]  0.280757\n",
      "2   (14.454, 31.138]  0.443396\n",
      "3  (31.138, 512.329]  0.574074\n"
     ]
    }
   ],
   "execution_count": 201
  },
  {
   "metadata": {
    "ExecuteTime": {
     "end_time": "2025-10-02T18:02:21.767812Z",
     "start_time": "2025-10-02T18:02:21.745918Z"
    }
   },
   "cell_type": "code",
   "source": [
    "# Делаем маппинг между price и price_band\n",
    "\n",
    "for dataset in train_test_data:\n",
    "    dataset.loc[ dataset['price'] <= 7.91, 'price'] = 0\n",
    "    dataset.loc[(dataset['price'] > 7.91) & (dataset['price'] <= 14.454), 'price'] = 1\n",
    "    dataset.loc[(dataset['price'] > 14.454) & (dataset['price'] <= 31), 'price']   = 2\n",
    "    dataset.loc[ dataset['price'] > 31, 'price'] = 3\n",
    "    dataset['price'] = dataset['price'].astype(int)"
   ],
   "id": "4c04b2fbac2c81a9",
   "outputs": [],
   "execution_count": 202
  },
  {
   "metadata": {
    "ExecuteTime": {
     "end_time": "2025-10-02T18:02:21.824370Z",
     "start_time": "2025-10-02T18:02:21.814580Z"
    }
   },
   "cell_type": "code",
   "source": [
    "# Объединяем данные по семье\n",
    "for dataset in train_test_data:\n",
    "    dataset['family_size'] = dataset['bss'] +  dataset['rd'] + 1\n",
    "\n",
    "print (train[['family_size', 'target']].groupby(['family_size'], as_index=False).mean())"
   ],
   "id": "21fd60eed6154f2d",
   "outputs": [
    {
     "name": "stdout",
     "output_type": "stream",
     "text": [
      "   family_size    target\n",
      "0            1  0.303185\n",
      "1            2  0.530702\n",
      "2            3  0.566879\n",
      "3            4  0.697674\n",
      "4            5  0.272727\n",
      "5            6  0.200000\n",
      "6            7  0.250000\n",
      "7            8  0.000000\n",
      "8           11  0.000000\n"
     ]
    }
   ],
   "execution_count": 203
  },
  {
   "metadata": {
    "ExecuteTime": {
     "end_time": "2025-10-02T18:02:21.859603Z",
     "start_time": "2025-10-02T18:02:21.848076Z"
    }
   },
   "cell_type": "code",
   "source": [
    "# Добавляем признак одиночек\n",
    "for dataset in train_test_data:\n",
    "    dataset['is_alone'] = 0\n",
    "    dataset.loc[dataset['family_size'] == 1, 'is_alone'] = 1\n",
    "\n",
    "print (train[['is_alone', 'target']].groupby(['is_alone'], as_index=False).mean())"
   ],
   "id": "11e8b6a6dbe350e4",
   "outputs": [
    {
     "name": "stdout",
     "output_type": "stream",
     "text": [
      "   is_alone    target\n",
      "0         0  0.500000\n",
      "1         1  0.303185\n"
     ]
    }
   ],
   "execution_count": 204
  },
  {
   "metadata": {
    "ExecuteTime": {
     "end_time": "2025-10-02T18:02:21.891356Z",
     "start_time": "2025-10-02T18:02:21.884997Z"
    }
   },
   "cell_type": "code",
   "source": [
    "# Оставляем только нужно для работы модели\n",
    "features_drop = ['bss', 'rd', 'ticket', 'place', 'family_size', 'boat']\n",
    "train = train.drop(features_drop, axis=1)\n",
    "test = test.drop(features_drop, axis=1)\n",
    "train = train.drop(['age_band', 'price_band'], axis=1)"
   ],
   "id": "de74ede441b1c57e",
   "outputs": [],
   "execution_count": 205
  },
  {
   "metadata": {
    "ExecuteTime": {
     "end_time": "2025-10-02T18:02:21.933178Z",
     "start_time": "2025-10-02T18:02:21.923748Z"
    }
   },
   "cell_type": "code",
   "source": "train.head()",
   "id": "eab64510e74d135d",
   "outputs": [
    {
     "data": {
      "text/plain": [
       "   target  class  gender  age  price  port  is_alone\n",
       "0       1      1       1    1      3     0         1\n",
       "1       1      1       0    0      3     0         0\n",
       "2       0      1       1    0      3     0         0\n",
       "3       0      1       0    1      3     0         0\n",
       "4       0      1       1    1      3     0         0"
      ],
      "text/html": [
       "<div>\n",
       "<style scoped>\n",
       "    .dataframe tbody tr th:only-of-type {\n",
       "        vertical-align: middle;\n",
       "    }\n",
       "\n",
       "    .dataframe tbody tr th {\n",
       "        vertical-align: top;\n",
       "    }\n",
       "\n",
       "    .dataframe thead th {\n",
       "        text-align: right;\n",
       "    }\n",
       "</style>\n",
       "<table border=\"1\" class=\"dataframe\">\n",
       "  <thead>\n",
       "    <tr style=\"text-align: right;\">\n",
       "      <th></th>\n",
       "      <th>target</th>\n",
       "      <th>class</th>\n",
       "      <th>gender</th>\n",
       "      <th>age</th>\n",
       "      <th>price</th>\n",
       "      <th>port</th>\n",
       "      <th>is_alone</th>\n",
       "    </tr>\n",
       "  </thead>\n",
       "  <tbody>\n",
       "    <tr>\n",
       "      <th>0</th>\n",
       "      <td>1</td>\n",
       "      <td>1</td>\n",
       "      <td>1</td>\n",
       "      <td>1</td>\n",
       "      <td>3</td>\n",
       "      <td>0</td>\n",
       "      <td>1</td>\n",
       "    </tr>\n",
       "    <tr>\n",
       "      <th>1</th>\n",
       "      <td>1</td>\n",
       "      <td>1</td>\n",
       "      <td>0</td>\n",
       "      <td>0</td>\n",
       "      <td>3</td>\n",
       "      <td>0</td>\n",
       "      <td>0</td>\n",
       "    </tr>\n",
       "    <tr>\n",
       "      <th>2</th>\n",
       "      <td>0</td>\n",
       "      <td>1</td>\n",
       "      <td>1</td>\n",
       "      <td>0</td>\n",
       "      <td>3</td>\n",
       "      <td>0</td>\n",
       "      <td>0</td>\n",
       "    </tr>\n",
       "    <tr>\n",
       "      <th>3</th>\n",
       "      <td>0</td>\n",
       "      <td>1</td>\n",
       "      <td>0</td>\n",
       "      <td>1</td>\n",
       "      <td>3</td>\n",
       "      <td>0</td>\n",
       "      <td>0</td>\n",
       "    </tr>\n",
       "    <tr>\n",
       "      <th>4</th>\n",
       "      <td>0</td>\n",
       "      <td>1</td>\n",
       "      <td>1</td>\n",
       "      <td>1</td>\n",
       "      <td>3</td>\n",
       "      <td>0</td>\n",
       "      <td>0</td>\n",
       "    </tr>\n",
       "  </tbody>\n",
       "</table>\n",
       "</div>"
      ]
     },
     "execution_count": 206,
     "metadata": {},
     "output_type": "execute_result"
    }
   ],
   "execution_count": 206
  },
  {
   "metadata": {
    "ExecuteTime": {
     "end_time": "2025-10-02T18:02:21.989660Z",
     "start_time": "2025-10-02T18:02:21.981893Z"
    }
   },
   "cell_type": "code",
   "source": "train.head()",
   "id": "2268c80e44acfe48",
   "outputs": [
    {
     "data": {
      "text/plain": [
       "   target  class  gender  age  price  port  is_alone\n",
       "0       1      1       1    1      3     0         1\n",
       "1       1      1       0    0      3     0         0\n",
       "2       0      1       1    0      3     0         0\n",
       "3       0      1       0    1      3     0         0\n",
       "4       0      1       1    1      3     0         0"
      ],
      "text/html": [
       "<div>\n",
       "<style scoped>\n",
       "    .dataframe tbody tr th:only-of-type {\n",
       "        vertical-align: middle;\n",
       "    }\n",
       "\n",
       "    .dataframe tbody tr th {\n",
       "        vertical-align: top;\n",
       "    }\n",
       "\n",
       "    .dataframe thead th {\n",
       "        text-align: right;\n",
       "    }\n",
       "</style>\n",
       "<table border=\"1\" class=\"dataframe\">\n",
       "  <thead>\n",
       "    <tr style=\"text-align: right;\">\n",
       "      <th></th>\n",
       "      <th>target</th>\n",
       "      <th>class</th>\n",
       "      <th>gender</th>\n",
       "      <th>age</th>\n",
       "      <th>price</th>\n",
       "      <th>port</th>\n",
       "      <th>is_alone</th>\n",
       "    </tr>\n",
       "  </thead>\n",
       "  <tbody>\n",
       "    <tr>\n",
       "      <th>0</th>\n",
       "      <td>1</td>\n",
       "      <td>1</td>\n",
       "      <td>1</td>\n",
       "      <td>1</td>\n",
       "      <td>3</td>\n",
       "      <td>0</td>\n",
       "      <td>1</td>\n",
       "    </tr>\n",
       "    <tr>\n",
       "      <th>1</th>\n",
       "      <td>1</td>\n",
       "      <td>1</td>\n",
       "      <td>0</td>\n",
       "      <td>0</td>\n",
       "      <td>3</td>\n",
       "      <td>0</td>\n",
       "      <td>0</td>\n",
       "    </tr>\n",
       "    <tr>\n",
       "      <th>2</th>\n",
       "      <td>0</td>\n",
       "      <td>1</td>\n",
       "      <td>1</td>\n",
       "      <td>0</td>\n",
       "      <td>3</td>\n",
       "      <td>0</td>\n",
       "      <td>0</td>\n",
       "    </tr>\n",
       "    <tr>\n",
       "      <th>3</th>\n",
       "      <td>0</td>\n",
       "      <td>1</td>\n",
       "      <td>0</td>\n",
       "      <td>1</td>\n",
       "      <td>3</td>\n",
       "      <td>0</td>\n",
       "      <td>0</td>\n",
       "    </tr>\n",
       "    <tr>\n",
       "      <th>4</th>\n",
       "      <td>0</td>\n",
       "      <td>1</td>\n",
       "      <td>1</td>\n",
       "      <td>1</td>\n",
       "      <td>3</td>\n",
       "      <td>0</td>\n",
       "      <td>0</td>\n",
       "    </tr>\n",
       "  </tbody>\n",
       "</table>\n",
       "</div>"
      ]
     },
     "execution_count": 207,
     "metadata": {},
     "output_type": "execute_result"
    }
   ],
   "execution_count": 207
  },
  {
   "metadata": {
    "ExecuteTime": {
     "end_time": "2025-10-02T18:02:22.282526Z",
     "start_time": "2025-10-02T18:02:22.058008Z"
    }
   },
   "cell_type": "code",
   "source": [
    "# Строим матрицу корреляци признаков\n",
    "plt.figure(figsize=(15,6))\n",
    "sns.heatmap(train.corr(), vmax=0.6, square=True, annot=True)\n",
    "\n"
   ],
   "id": "6d376c3e99f61a04",
   "outputs": [
    {
     "data": {
      "text/plain": [
       "<Axes: >"
      ]
     },
     "execution_count": 208,
     "metadata": {},
     "output_type": "execute_result"
    },
    {
     "data": {
      "text/plain": [
       "<Figure size 1500x600 with 2 Axes>"
      ],
      "image/png": "[encoded data removed]"
     },
     "metadata": {},
     "output_type": "display_data"
    }
   ],
   "execution_count": 208
  },
  {
   "metadata": {},
   "cell_type": "markdown",
   "source": "# Моделирование",
   "id": "31f5b3e604910b0b"
  },
  {
   "metadata": {
    "ExecuteTime": {
     "end_time": "2025-10-02T18:02:22.314847Z",
     "start_time": "2025-10-02T18:02:22.307396Z"
    }
   },
   "cell_type": "code",
   "source": [
    "\n",
    "\n",
    "X_train = train.drop('target', axis=1)\n",
    "y_train = train['target']\n",
    "\n",
    "X_test = test.drop(\"target\", axis=1).copy()\n",
    "\n",
    "X_train.shape, y_train.shape, X_test.shape\n",
    "\n"
   ],
   "id": "90642cfb0f3dde2a",
   "outputs": [
    {
     "data": {
      "text/plain": [
       "((1295, 6), (1295,), (14, 6))"
      ]
     },
     "execution_count": 209,
     "metadata": {},
     "output_type": "execute_result"
    }
   ],
   "execution_count": 209
  },
  {
   "metadata": {
    "ExecuteTime": {
     "end_time": "2025-10-02T18:02:22.446227Z",
     "start_time": "2025-10-02T18:02:22.428474Z"
    }
   },
   "cell_type": "code",
   "source": [
    "# Используем Логистическую регрессия для моделирования\n",
    "from sklearn.linear_model import LogisticRegression\n",
    "clf = LogisticRegression()\n",
    "clf.fit(X_train, y_train)\n",
    "y_pred_log_reg = clf.predict(X_test)"
   ],
   "id": "807982ab0a103821",
   "outputs": [],
   "execution_count": 210
  },
  {
   "metadata": {
    "ExecuteTime": {
     "end_time": "2025-10-02T18:02:22.475705Z",
     "start_time": "2025-10-02T18:02:22.470150Z"
    }
   },
   "cell_type": "code",
   "source": [
    "test_final['target'] = y_pred_log_reg\n",
    "test_final.to_csv('titanic_final.csv', index=False)"
   ],
   "id": "a1a6425aa48307ab",
   "outputs": [],
   "execution_count": 211
  }
 ],
 "metadata": {
  "kernelspec": {
   "name": "python3",
   "language": "python",
   "display_name": "Python 3 (ipykernel)"
  }
 },
 "nbformat": 5,
 "nbformat_minor": 9
}
